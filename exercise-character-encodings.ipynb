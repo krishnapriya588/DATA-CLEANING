{
 "cells": [
  {
   "cell_type": "markdown",
   "id": "262fd1e3",
   "metadata": {
    "papermill": {
     "duration": 0.004986,
     "end_time": "2024-01-05T12:03:46.854542",
     "exception": false,
     "start_time": "2024-01-05T12:03:46.849556",
     "status": "completed"
    },
    "tags": []
   },
   "source": [
    "**This notebook is an exercise in the [Data Cleaning](https://www.kaggle.com/learn/data-cleaning) course.  You can reference the tutorial at [this link](https://www.kaggle.com/alexisbcook/character-encodings).**\n",
    "\n",
    "---\n"
   ]
  },
  {
   "cell_type": "markdown",
   "id": "5a2e438b",
   "metadata": {
    "papermill": {
     "duration": 0.004467,
     "end_time": "2024-01-05T12:03:46.864036",
     "exception": false,
     "start_time": "2024-01-05T12:03:46.859569",
     "status": "completed"
    },
    "tags": []
   },
   "source": [
    "In this exercise, you'll apply what you learned in the **Character encodings** tutorial.\n",
    "\n",
    "# Setup\n",
    "\n",
    "The questions below will give you feedback on your work. Run the following cell to set up the feedback system."
   ]
  },
  {
   "cell_type": "code",
   "execution_count": 1,
   "id": "fefe84ba",
   "metadata": {
    "execution": {
     "iopub.execute_input": "2024-01-05T12:03:46.875474Z",
     "iopub.status.busy": "2024-01-05T12:03:46.874556Z",
     "iopub.status.idle": "2024-01-05T12:03:47.379641Z",
     "shell.execute_reply": "2024-01-05T12:03:47.378601Z"
    },
    "papermill": {
     "duration": 0.514346,
     "end_time": "2024-01-05T12:03:47.382889",
     "exception": false,
     "start_time": "2024-01-05T12:03:46.868543",
     "status": "completed"
    },
    "tags": []
   },
   "outputs": [
    {
     "name": "stdout",
     "output_type": "stream",
     "text": [
      "Setup Complete\n"
     ]
    }
   ],
   "source": [
    "from learntools.core import binder\n",
    "binder.bind(globals())\n",
    "from learntools.data_cleaning.ex4 import *\n",
    "print(\"Setup Complete\")"
   ]
  },
  {
   "cell_type": "markdown",
   "id": "4f4b0b18",
   "metadata": {
    "papermill": {
     "duration": 0.00478,
     "end_time": "2024-01-05T12:03:47.393343",
     "exception": false,
     "start_time": "2024-01-05T12:03:47.388563",
     "status": "completed"
    },
    "tags": []
   },
   "source": [
    "# Get our environment set up\n",
    "\n",
    "The first thing we'll need to do is load in the libraries we'll be using."
   ]
  },
  {
   "cell_type": "code",
   "execution_count": 2,
   "id": "94b47093",
   "metadata": {
    "execution": {
     "iopub.execute_input": "2024-01-05T12:03:47.405324Z",
     "iopub.status.busy": "2024-01-05T12:03:47.404883Z",
     "iopub.status.idle": "2024-01-05T12:03:47.410163Z",
     "shell.execute_reply": "2024-01-05T12:03:47.409093Z"
    },
    "papermill": {
     "duration": 0.014494,
     "end_time": "2024-01-05T12:03:47.412530",
     "exception": false,
     "start_time": "2024-01-05T12:03:47.398036",
     "status": "completed"
    },
    "tags": []
   },
   "outputs": [],
   "source": [
    "# modules we'll use\n",
    "import pandas as pd\n",
    "import numpy as np\n",
    "\n",
    "# helpful character encoding module\n",
    "import charset_normalizer\n",
    "\n",
    "# set seed for reproducibility\n",
    "np.random.seed(0)"
   ]
  },
  {
   "cell_type": "markdown",
   "id": "fb9fccbb",
   "metadata": {
    "papermill": {
     "duration": 0.004321,
     "end_time": "2024-01-05T12:03:47.421683",
     "exception": false,
     "start_time": "2024-01-05T12:03:47.417362",
     "status": "completed"
    },
    "tags": []
   },
   "source": [
    "# 1) What are encodings?\n",
    "\n",
    "You're working with a dataset composed of bytes.  Run the code cell below to print a sample entry."
   ]
  },
  {
   "cell_type": "code",
   "execution_count": 3,
   "id": "4a5e1f62",
   "metadata": {
    "execution": {
     "iopub.execute_input": "2024-01-05T12:03:47.434152Z",
     "iopub.status.busy": "2024-01-05T12:03:47.432897Z",
     "iopub.status.idle": "2024-01-05T12:03:47.440396Z",
     "shell.execute_reply": "2024-01-05T12:03:47.438730Z"
    },
    "papermill": {
     "duration": 0.016568,
     "end_time": "2024-01-05T12:03:47.442865",
     "exception": false,
     "start_time": "2024-01-05T12:03:47.426297",
     "status": "completed"
    },
    "tags": []
   },
   "outputs": [
    {
     "name": "stdout",
     "output_type": "stream",
     "text": [
      "b'\\xa7A\\xa6n'\n",
      "data type: <class 'bytes'>\n"
     ]
    }
   ],
   "source": [
    "sample_entry = b'\\xa7A\\xa6n'\n",
    "print(sample_entry)\n",
    "print('data type:', type(sample_entry))"
   ]
  },
  {
   "cell_type": "markdown",
   "id": "24aeed05",
   "metadata": {
    "papermill": {
     "duration": 0.004458,
     "end_time": "2024-01-05T12:03:47.452149",
     "exception": false,
     "start_time": "2024-01-05T12:03:47.447691",
     "status": "completed"
    },
    "tags": []
   },
   "source": [
    "You notice that it doesn't use the standard UTF-8 encoding. \n",
    "\n",
    "Use the next code cell to create a variable `new_entry` that changes the encoding from `\"big5-tw\"` to `\"utf-8\"`.  `new_entry` should have the bytes datatype."
   ]
  },
  {
   "cell_type": "code",
   "execution_count": 4,
   "id": "bbbeabec",
   "metadata": {
    "execution": {
     "iopub.execute_input": "2024-01-05T12:03:47.463471Z",
     "iopub.status.busy": "2024-01-05T12:03:47.463074Z",
     "iopub.status.idle": "2024-01-05T12:03:47.472944Z",
     "shell.execute_reply": "2024-01-05T12:03:47.471708Z"
    },
    "papermill": {
     "duration": 0.018309,
     "end_time": "2024-01-05T12:03:47.475143",
     "exception": false,
     "start_time": "2024-01-05T12:03:47.456834",
     "status": "completed"
    },
    "tags": []
   },
   "outputs": [
    {
     "data": {
      "application/javascript": [
       "parent.postMessage({\"jupyterEvent\": \"custom.exercise_interaction\", \"data\": {\"outcomeType\": 1, \"valueTowardsCompletion\": 0.3333333333333333, \"interactionType\": 1, \"questionType\": 1, \"questionId\": \"1_EncodingsIntro\", \"learnToolsVersion\": \"0.3.4\", \"failureMessage\": \"\", \"exceptionClass\": \"\", \"trace\": \"\"}}, \"*\")"
      ],
      "text/plain": [
       "<IPython.core.display.Javascript object>"
      ]
     },
     "metadata": {},
     "output_type": "display_data"
    },
    {
     "data": {
      "text/markdown": [
       "<span style=\"color:#33cc33\">Correct</span>"
      ],
      "text/plain": [
       "Correct"
      ]
     },
     "metadata": {},
     "output_type": "display_data"
    }
   ],
   "source": [
    "before = sample_entry.decode(\"big5-tw\")\n",
    "new_entry = before.encode()\n",
    "\n",
    "# Check your answer\n",
    "q1.check()"
   ]
  },
  {
   "cell_type": "code",
   "execution_count": 5,
   "id": "6c29409e",
   "metadata": {
    "execution": {
     "iopub.execute_input": "2024-01-05T12:03:47.488079Z",
     "iopub.status.busy": "2024-01-05T12:03:47.487729Z",
     "iopub.status.idle": "2024-01-05T12:03:47.491750Z",
     "shell.execute_reply": "2024-01-05T12:03:47.490650Z"
    },
    "papermill": {
     "duration": 0.012825,
     "end_time": "2024-01-05T12:03:47.493977",
     "exception": false,
     "start_time": "2024-01-05T12:03:47.481152",
     "status": "completed"
    },
    "tags": []
   },
   "outputs": [],
   "source": [
    "# Lines below will give you a hint or solution code\n",
    "#q1.hint()\n",
    "#q1.solution()"
   ]
  },
  {
   "cell_type": "markdown",
   "id": "6b44eb13",
   "metadata": {
    "papermill": {
     "duration": 0.004807,
     "end_time": "2024-01-05T12:03:47.503808",
     "exception": false,
     "start_time": "2024-01-05T12:03:47.499001",
     "status": "completed"
    },
    "tags": []
   },
   "source": [
    "# 2) Reading in files with encoding problems\n",
    "\n",
    "Use the code cell below to read in this file at path `\"../input/fatal-police-shootings-in-the-us/PoliceKillingsUS.csv\"`.  \n",
    "\n",
    "Figure out what the correct encoding should be and read in the file to a DataFrame `police_killings`."
   ]
  },
  {
   "cell_type": "code",
   "execution_count": 6,
   "id": "45c0a578",
   "metadata": {
    "execution": {
     "iopub.execute_input": "2024-01-05T12:03:47.515521Z",
     "iopub.status.busy": "2024-01-05T12:03:47.515117Z",
     "iopub.status.idle": "2024-01-05T12:03:47.539137Z",
     "shell.execute_reply": "2024-01-05T12:03:47.538348Z"
    },
    "papermill": {
     "duration": 0.032796,
     "end_time": "2024-01-05T12:03:47.541616",
     "exception": false,
     "start_time": "2024-01-05T12:03:47.508820",
     "status": "completed"
    },
    "tags": []
   },
   "outputs": [
    {
     "data": {
      "application/javascript": [
       "parent.postMessage({\"jupyterEvent\": \"custom.exercise_interaction\", \"data\": {\"outcomeType\": 1, \"valueTowardsCompletion\": 0.3333333333333333, \"interactionType\": 1, \"questionType\": 1, \"questionId\": \"2_ReadIn\", \"learnToolsVersion\": \"0.3.4\", \"failureMessage\": \"\", \"exceptionClass\": \"\", \"trace\": \"\"}}, \"*\")"
      ],
      "text/plain": [
       "<IPython.core.display.Javascript object>"
      ]
     },
     "metadata": {},
     "output_type": "display_data"
    },
    {
     "data": {
      "text/markdown": [
       "<span style=\"color:#33cc33\">Correct</span>"
      ],
      "text/plain": [
       "Correct"
      ]
     },
     "metadata": {},
     "output_type": "display_data"
    }
   ],
   "source": [
    "police_killings = pd.read_csv(\"../input/fatal-police-shootings-in-the-us/PoliceKillingsUS.csv\", encoding='Windows-1252')\n",
    "\n",
    "# Check your answer\n",
    "q2.check()"
   ]
  },
  {
   "cell_type": "markdown",
   "id": "6d72959e",
   "metadata": {
    "papermill": {
     "duration": 0.005025,
     "end_time": "2024-01-05T12:03:47.552161",
     "exception": false,
     "start_time": "2024-01-05T12:03:47.547136",
     "status": "completed"
    },
    "tags": []
   },
   "source": [
    "Feel free to use any additional code cells for supplemental work.  To get credit for finishing this question, you'll need to run `q2.check()` and get a result of **Correct**."
   ]
  },
  {
   "cell_type": "code",
   "execution_count": 7,
   "id": "c35b319c",
   "metadata": {
    "execution": {
     "iopub.execute_input": "2024-01-05T12:03:47.565403Z",
     "iopub.status.busy": "2024-01-05T12:03:47.564748Z",
     "iopub.status.idle": "2024-01-05T12:03:47.568920Z",
     "shell.execute_reply": "2024-01-05T12:03:47.568042Z"
    },
    "papermill": {
     "duration": 0.013324,
     "end_time": "2024-01-05T12:03:47.571164",
     "exception": false,
     "start_time": "2024-01-05T12:03:47.557840",
     "status": "completed"
    },
    "tags": []
   },
   "outputs": [],
   "source": [
    "# (Optional) Use this code cell for any additional work."
   ]
  },
  {
   "cell_type": "code",
   "execution_count": 8,
   "id": "330258b2",
   "metadata": {
    "execution": {
     "iopub.execute_input": "2024-01-05T12:03:47.584460Z",
     "iopub.status.busy": "2024-01-05T12:03:47.583546Z",
     "iopub.status.idle": "2024-01-05T12:03:47.588537Z",
     "shell.execute_reply": "2024-01-05T12:03:47.587405Z"
    },
    "papermill": {
     "duration": 0.014357,
     "end_time": "2024-01-05T12:03:47.590961",
     "exception": false,
     "start_time": "2024-01-05T12:03:47.576604",
     "status": "completed"
    },
    "tags": []
   },
   "outputs": [],
   "source": [
    "# Lines below will give you a hint or solution code\n",
    "#q2.hint()\n",
    "#q2.solution()"
   ]
  },
  {
   "cell_type": "markdown",
   "id": "518350a8",
   "metadata": {
    "papermill": {
     "duration": 0.005292,
     "end_time": "2024-01-05T12:03:47.601801",
     "exception": false,
     "start_time": "2024-01-05T12:03:47.596509",
     "status": "completed"
    },
    "tags": []
   },
   "source": [
    "# 3) Saving your files with UTF-8 encoding\n",
    "\n",
    "Save a version of the police killings dataset to CSV with UTF-8 encoding.  Your answer will be marked correct after saving this file.  \n",
    "\n",
    "Note: When using the `to_csv()` method, supply only the name of the file (e.g., `\"my_file.csv\"`).  This saves the file at the filepath `\"/kaggle/working/my_file.csv\"`."
   ]
  },
  {
   "cell_type": "code",
   "execution_count": 9,
   "id": "ba735786",
   "metadata": {
    "execution": {
     "iopub.execute_input": "2024-01-05T12:03:47.615579Z",
     "iopub.status.busy": "2024-01-05T12:03:47.615137Z",
     "iopub.status.idle": "2024-01-05T12:03:47.658400Z",
     "shell.execute_reply": "2024-01-05T12:03:47.657264Z"
    },
    "papermill": {
     "duration": 0.053373,
     "end_time": "2024-01-05T12:03:47.660870",
     "exception": false,
     "start_time": "2024-01-05T12:03:47.607497",
     "status": "completed"
    },
    "tags": []
   },
   "outputs": [
    {
     "data": {
      "application/javascript": [
       "parent.postMessage({\"jupyterEvent\": \"custom.exercise_interaction\", \"data\": {\"outcomeType\": 1, \"valueTowardsCompletion\": 0.3333333333333333, \"interactionType\": 1, \"questionType\": 2, \"questionId\": \"3_SaveCSV\", \"learnToolsVersion\": \"0.3.4\", \"failureMessage\": \"\", \"exceptionClass\": \"\", \"trace\": \"\"}}, \"*\")"
      ],
      "text/plain": [
       "<IPython.core.display.Javascript object>"
      ]
     },
     "metadata": {},
     "output_type": "display_data"
    },
    {
     "data": {
      "text/markdown": [
       "<span style=\"color:#33cc33\">Correct</span>"
      ],
      "text/plain": [
       "Correct"
      ]
     },
     "metadata": {},
     "output_type": "display_data"
    }
   ],
   "source": [
    "# TODO: Save the police killings dataset to CSV\n",
    "police_killings.to_csv(\"my_file.csv\")\n",
    "\n",
    "# Check your answer\n",
    "q3.check()"
   ]
  },
  {
   "cell_type": "code",
   "execution_count": 10,
   "id": "88a7fe69",
   "metadata": {
    "execution": {
     "iopub.execute_input": "2024-01-05T12:03:47.674863Z",
     "iopub.status.busy": "2024-01-05T12:03:47.673816Z",
     "iopub.status.idle": "2024-01-05T12:03:47.679058Z",
     "shell.execute_reply": "2024-01-05T12:03:47.677955Z"
    },
    "papermill": {
     "duration": 0.014951,
     "end_time": "2024-01-05T12:03:47.681745",
     "exception": false,
     "start_time": "2024-01-05T12:03:47.666794",
     "status": "completed"
    },
    "tags": []
   },
   "outputs": [],
   "source": [
    "# Lines below will give you a hint or solution code\n",
    "#q3.hint()\n",
    "#q3.solution()"
   ]
  },
  {
   "cell_type": "markdown",
   "id": "3342b57b",
   "metadata": {
    "papermill": {
     "duration": 0.005227,
     "end_time": "2024-01-05T12:03:47.692575",
     "exception": false,
     "start_time": "2024-01-05T12:03:47.687348",
     "status": "completed"
    },
    "tags": []
   },
   "source": [
    "# (Optional) More practice\n",
    "\n",
    "Check out [this dataset of files in different character encodings](https://www.kaggle.com/rtatman/character-encoding-examples). Can you read in all the files with their original encodings and them save them out as UTF-8 files?\n",
    "\n",
    "If you have a file that's in UTF-8 but has just a couple of weird-looking characters in it, you can try out the [ftfy module](https://ftfy.readthedocs.io/en/latest/#) and see if it helps. \n",
    "\n",
    "# Keep going\n",
    "\n",
    "In the final lesson, learn how to [**clean up inconsistent text entries**](https://www.kaggle.com/alexisbcook/inconsistent-data-entry) in your dataset."
   ]
  },
  {
   "cell_type": "markdown",
   "id": "377af799",
   "metadata": {
    "papermill": {
     "duration": 0.005565,
     "end_time": "2024-01-05T12:03:47.703570",
     "exception": false,
     "start_time": "2024-01-05T12:03:47.698005",
     "status": "completed"
    },
    "tags": []
   },
   "source": [
    "---\n",
    "\n",
    "\n",
    "\n",
    "\n",
    "*Have questions or comments? Visit the [course discussion forum](https://www.kaggle.com/learn/data-cleaning/discussion) to chat with other learners.*"
   ]
  }
 ],
 "metadata": {
  "kaggle": {
   "accelerator": "none",
   "dataSources": [
    {
     "datasetId": 2647,
     "sourceId": 4395,
     "sourceType": "datasetVersion"
    }
   ],
   "isGpuEnabled": false,
   "isInternetEnabled": false,
   "language": "python",
   "sourceType": "notebook"
  },
  "kernelspec": {
   "display_name": "Python 3",
   "language": "python",
   "name": "python3"
  },
  "language_info": {
   "codemirror_mode": {
    "name": "ipython",
    "version": 3
   },
   "file_extension": ".py",
   "mimetype": "text/x-python",
   "name": "python",
   "nbconvert_exporter": "python",
   "pygments_lexer": "ipython3",
   "version": "3.10.12"
  },
  "papermill": {
   "default_parameters": {},
   "duration": 4.533316,
   "end_time": "2024-01-05T12:03:48.231720",
   "environment_variables": {},
   "exception": null,
   "input_path": "__notebook__.ipynb",
   "output_path": "__notebook__.ipynb",
   "parameters": {},
   "start_time": "2024-01-05T12:03:43.698404",
   "version": "2.4.0"
  }
 },
 "nbformat": 4,
 "nbformat_minor": 5
}
