{
 "cells": [
  {
   "cell_type": "markdown",
   "id": "0a0f20e8",
   "metadata": {
    "papermill": {
     "duration": 0.004357,
     "end_time": "2024-01-05T10:19:51.612269",
     "exception": false,
     "start_time": "2024-01-05T10:19:51.607912",
     "status": "completed"
    },
    "tags": []
   },
   "source": [
    "**This notebook is an exercise in the [Data Cleaning](https://www.kaggle.com/learn/data-cleaning) course.  You can reference the tutorial at [this link](https://www.kaggle.com/alexisbcook/character-encodings).**\n",
    "\n",
    "---\n"
   ]
  },
  {
   "cell_type": "markdown",
   "id": "74c164f9",
   "metadata": {
    "papermill": {
     "duration": 0.003566,
     "end_time": "2024-01-05T10:19:51.619855",
     "exception": false,
     "start_time": "2024-01-05T10:19:51.616289",
     "status": "completed"
    },
    "tags": []
   },
   "source": [
    "In this exercise, you'll apply what you learned in the **Character encodings** tutorial.\n",
    "\n",
    "# Setup\n",
    "\n",
    "The questions below will give you feedback on your work. Run the following cell to set up the feedback system."
   ]
  },
  {
   "cell_type": "code",
   "execution_count": 1,
   "id": "74785d7f",
   "metadata": {
    "execution": {
     "iopub.execute_input": "2024-01-05T10:19:51.629294Z",
     "iopub.status.busy": "2024-01-05T10:19:51.628948Z",
     "iopub.status.idle": "2024-01-05T10:19:52.079671Z",
     "shell.execute_reply": "2024-01-05T10:19:52.078845Z"
    },
    "papermill": {
     "duration": 0.458743,
     "end_time": "2024-01-05T10:19:52.082358",
     "exception": false,
     "start_time": "2024-01-05T10:19:51.623615",
     "status": "completed"
    },
    "tags": []
   },
   "outputs": [
    {
     "name": "stdout",
     "output_type": "stream",
     "text": [
      "Setup Complete\n"
     ]
    }
   ],
   "source": [
    "from learntools.core import binder\n",
    "binder.bind(globals())\n",
    "from learntools.data_cleaning.ex4 import *\n",
    "print(\"Setup Complete\")"
   ]
  },
  {
   "cell_type": "markdown",
   "id": "fbf6a2bb",
   "metadata": {
    "papermill": {
     "duration": 0.00387,
     "end_time": "2024-01-05T10:19:52.090844",
     "exception": false,
     "start_time": "2024-01-05T10:19:52.086974",
     "status": "completed"
    },
    "tags": []
   },
   "source": [
    "# Get our environment set up\n",
    "\n",
    "The first thing we'll need to do is load in the libraries we'll be using."
   ]
  },
  {
   "cell_type": "code",
   "execution_count": 2,
   "id": "6579bafe",
   "metadata": {
    "execution": {
     "iopub.execute_input": "2024-01-05T10:19:52.101662Z",
     "iopub.status.busy": "2024-01-05T10:19:52.101266Z",
     "iopub.status.idle": "2024-01-05T10:19:52.105798Z",
     "shell.execute_reply": "2024-01-05T10:19:52.104958Z"
    },
    "papermill": {
     "duration": 0.012519,
     "end_time": "2024-01-05T10:19:52.107559",
     "exception": false,
     "start_time": "2024-01-05T10:19:52.095040",
     "status": "completed"
    },
    "tags": []
   },
   "outputs": [],
   "source": [
    "# modules we'll use\n",
    "import pandas as pd\n",
    "import numpy as np\n",
    "\n",
    "# helpful character encoding module\n",
    "import charset_normalizer\n",
    "\n",
    "# set seed for reproducibility\n",
    "np.random.seed(0)"
   ]
  },
  {
   "cell_type": "markdown",
   "id": "0065f289",
   "metadata": {
    "papermill": {
     "duration": 0.00386,
     "end_time": "2024-01-05T10:19:52.115976",
     "exception": false,
     "start_time": "2024-01-05T10:19:52.112116",
     "status": "completed"
    },
    "tags": []
   },
   "source": [
    "# 1) What are encodings?\n",
    "\n",
    "You're working with a dataset composed of bytes.  Run the code cell below to print a sample entry."
   ]
  },
  {
   "cell_type": "code",
   "execution_count": 3,
   "id": "c4c9512d",
   "metadata": {
    "execution": {
     "iopub.execute_input": "2024-01-05T10:19:52.127902Z",
     "iopub.status.busy": "2024-01-05T10:19:52.127124Z",
     "iopub.status.idle": "2024-01-05T10:19:52.133566Z",
     "shell.execute_reply": "2024-01-05T10:19:52.132194Z"
    },
    "papermill": {
     "duration": 0.01655,
     "end_time": "2024-01-05T10:19:52.136528",
     "exception": false,
     "start_time": "2024-01-05T10:19:52.119978",
     "status": "completed"
    },
    "tags": []
   },
   "outputs": [
    {
     "name": "stdout",
     "output_type": "stream",
     "text": [
      "b'\\xa7A\\xa6n'\n",
      "data type: <class 'bytes'>\n"
     ]
    }
   ],
   "source": [
    "sample_entry = b'\\xa7A\\xa6n'\n",
    "print(sample_entry)\n",
    "print('data type:', type(sample_entry))"
   ]
  },
  {
   "cell_type": "markdown",
   "id": "306baad1",
   "metadata": {
    "papermill": {
     "duration": 0.004222,
     "end_time": "2024-01-05T10:19:52.145943",
     "exception": false,
     "start_time": "2024-01-05T10:19:52.141721",
     "status": "completed"
    },
    "tags": []
   },
   "source": [
    "You notice that it doesn't use the standard UTF-8 encoding. \n",
    "\n",
    "Use the next code cell to create a variable `new_entry` that changes the encoding from `\"big5-tw\"` to `\"utf-8\"`.  `new_entry` should have the bytes datatype."
   ]
  },
  {
   "cell_type": "code",
   "execution_count": 4,
   "id": "617c3d90",
   "metadata": {
    "execution": {
     "iopub.execute_input": "2024-01-05T10:19:52.157143Z",
     "iopub.status.busy": "2024-01-05T10:19:52.156312Z",
     "iopub.status.idle": "2024-01-05T10:19:52.165070Z",
     "shell.execute_reply": "2024-01-05T10:19:52.164312Z"
    },
    "papermill": {
     "duration": 0.016494,
     "end_time": "2024-01-05T10:19:52.166683",
     "exception": false,
     "start_time": "2024-01-05T10:19:52.150189",
     "status": "completed"
    },
    "tags": []
   },
   "outputs": [
    {
     "data": {
      "application/javascript": [
       "parent.postMessage({\"jupyterEvent\": \"custom.exercise_interaction\", \"data\": {\"outcomeType\": 1, \"valueTowardsCompletion\": 0.3333333333333333, \"interactionType\": 1, \"questionType\": 1, \"questionId\": \"1_EncodingsIntro\", \"learnToolsVersion\": \"0.3.4\", \"failureMessage\": \"\", \"exceptionClass\": \"\", \"trace\": \"\"}}, \"*\")"
      ],
      "text/plain": [
       "<IPython.core.display.Javascript object>"
      ]
     },
     "metadata": {},
     "output_type": "display_data"
    },
    {
     "data": {
      "text/markdown": [
       "<span style=\"color:#33cc33\">Correct</span>"
      ],
      "text/plain": [
       "Correct"
      ]
     },
     "metadata": {},
     "output_type": "display_data"
    }
   ],
   "source": [
    "before = sample_entry.decode(\"big5-tw\")\n",
    "new_entry = before.encode()\n",
    "\n",
    "# Check your answer\n",
    "q1.check()"
   ]
  },
  {
   "cell_type": "code",
   "execution_count": 5,
   "id": "0af9ef6e",
   "metadata": {
    "execution": {
     "iopub.execute_input": "2024-01-05T10:19:52.177266Z",
     "iopub.status.busy": "2024-01-05T10:19:52.176929Z",
     "iopub.status.idle": "2024-01-05T10:19:52.181668Z",
     "shell.execute_reply": "2024-01-05T10:19:52.180646Z"
    },
    "papermill": {
     "duration": 0.01341,
     "end_time": "2024-01-05T10:19:52.184633",
     "exception": false,
     "start_time": "2024-01-05T10:19:52.171223",
     "status": "completed"
    },
    "tags": []
   },
   "outputs": [],
   "source": [
    "# Lines below will give you a hint or solution code\n",
    "#q1.hint()\n",
    "#q1.solution()"
   ]
  },
  {
   "cell_type": "markdown",
   "id": "adec1bb1",
   "metadata": {
    "papermill": {
     "duration": 0.004398,
     "end_time": "2024-01-05T10:19:52.194164",
     "exception": false,
     "start_time": "2024-01-05T10:19:52.189766",
     "status": "completed"
    },
    "tags": []
   },
   "source": [
    "# 2) Reading in files with encoding problems\n",
    "\n",
    "Use the code cell below to read in this file at path `\"../input/fatal-police-shootings-in-the-us/PoliceKillingsUS.csv\"`.  \n",
    "\n",
    "Figure out what the correct encoding should be and read in the file to a DataFrame `police_killings`."
   ]
  },
  {
   "cell_type": "code",
   "execution_count": 6,
   "id": "723706a0",
   "metadata": {
    "execution": {
     "iopub.execute_input": "2024-01-05T10:19:52.204519Z",
     "iopub.status.busy": "2024-01-05T10:19:52.204202Z",
     "iopub.status.idle": "2024-01-05T10:19:52.225662Z",
     "shell.execute_reply": "2024-01-05T10:19:52.224400Z"
    },
    "papermill": {
     "duration": 0.029146,
     "end_time": "2024-01-05T10:19:52.227716",
     "exception": false,
     "start_time": "2024-01-05T10:19:52.198570",
     "status": "completed"
    },
    "tags": []
   },
   "outputs": [
    {
     "data": {
      "application/javascript": [
       "parent.postMessage({\"jupyterEvent\": \"custom.exercise_interaction\", \"data\": {\"outcomeType\": 1, \"valueTowardsCompletion\": 0.3333333333333333, \"interactionType\": 1, \"questionType\": 1, \"questionId\": \"2_ReadIn\", \"learnToolsVersion\": \"0.3.4\", \"failureMessage\": \"\", \"exceptionClass\": \"\", \"trace\": \"\"}}, \"*\")"
      ],
      "text/plain": [
       "<IPython.core.display.Javascript object>"
      ]
     },
     "metadata": {},
     "output_type": "display_data"
    },
    {
     "data": {
      "text/markdown": [
       "<span style=\"color:#33cc33\">Correct</span>"
      ],
      "text/plain": [
       "Correct"
      ]
     },
     "metadata": {},
     "output_type": "display_data"
    }
   ],
   "source": [
    "police_killings = pd.read_csv(\"../input/fatal-police-shootings-in-the-us/PoliceKillingsUS.csv\", encoding='Windows-1252')\n",
    "\n",
    "# Check your answer\n",
    "q2.check()"
   ]
  },
  {
   "cell_type": "markdown",
   "id": "7615e960",
   "metadata": {
    "papermill": {
     "duration": 0.004335,
     "end_time": "2024-01-05T10:19:52.237141",
     "exception": false,
     "start_time": "2024-01-05T10:19:52.232806",
     "status": "completed"
    },
    "tags": []
   },
   "source": [
    "Feel free to use any additional code cells for supplemental work.  To get credit for finishing this question, you'll need to run `q2.check()` and get a result of **Correct**."
   ]
  },
  {
   "cell_type": "code",
   "execution_count": 7,
   "id": "68e4fa20",
   "metadata": {
    "execution": {
     "iopub.execute_input": "2024-01-05T10:19:52.249222Z",
     "iopub.status.busy": "2024-01-05T10:19:52.248113Z",
     "iopub.status.idle": "2024-01-05T10:19:52.255089Z",
     "shell.execute_reply": "2024-01-05T10:19:52.254020Z"
    },
    "papermill": {
     "duration": 0.015103,
     "end_time": "2024-01-05T10:19:52.256965",
     "exception": false,
     "start_time": "2024-01-05T10:19:52.241862",
     "status": "completed"
    },
    "tags": []
   },
   "outputs": [],
   "source": [
    "# (Optional) Use this code cell for any additional work."
   ]
  },
  {
   "cell_type": "code",
   "execution_count": 8,
   "id": "7c277949",
   "metadata": {
    "execution": {
     "iopub.execute_input": "2024-01-05T10:19:52.269032Z",
     "iopub.status.busy": "2024-01-05T10:19:52.268633Z",
     "iopub.status.idle": "2024-01-05T10:19:52.272915Z",
     "shell.execute_reply": "2024-01-05T10:19:52.272053Z"
    },
    "papermill": {
     "duration": 0.012492,
     "end_time": "2024-01-05T10:19:52.274827",
     "exception": false,
     "start_time": "2024-01-05T10:19:52.262335",
     "status": "completed"
    },
    "tags": []
   },
   "outputs": [],
   "source": [
    "# Lines below will give you a hint or solution code\n",
    "#q2.hint()\n",
    "#q2.solution()"
   ]
  },
  {
   "cell_type": "markdown",
   "id": "a222df59",
   "metadata": {
    "papermill": {
     "duration": 0.00439,
     "end_time": "2024-01-05T10:19:52.284491",
     "exception": false,
     "start_time": "2024-01-05T10:19:52.280101",
     "status": "completed"
    },
    "tags": []
   },
   "source": [
    "# 3) Saving your files with UTF-8 encoding\n",
    "\n",
    "Save a version of the police killings dataset to CSV with UTF-8 encoding.  Your answer will be marked correct after saving this file.  \n",
    "\n",
    "Note: When using the `to_csv()` method, supply only the name of the file (e.g., `\"my_file.csv\"`).  This saves the file at the filepath `\"/kaggle/working/my_file.csv\"`."
   ]
  },
  {
   "cell_type": "code",
   "execution_count": 9,
   "id": "c94c44bb",
   "metadata": {
    "execution": {
     "iopub.execute_input": "2024-01-05T10:19:52.295315Z",
     "iopub.status.busy": "2024-01-05T10:19:52.294962Z",
     "iopub.status.idle": "2024-01-05T10:19:52.328997Z",
     "shell.execute_reply": "2024-01-05T10:19:52.327808Z"
    },
    "papermill": {
     "duration": 0.041745,
     "end_time": "2024-01-05T10:19:52.330864",
     "exception": false,
     "start_time": "2024-01-05T10:19:52.289119",
     "status": "completed"
    },
    "tags": []
   },
   "outputs": [
    {
     "data": {
      "application/javascript": [
       "parent.postMessage({\"jupyterEvent\": \"custom.exercise_interaction\", \"data\": {\"outcomeType\": 1, \"valueTowardsCompletion\": 0.3333333333333333, \"interactionType\": 1, \"questionType\": 2, \"questionId\": \"3_SaveCSV\", \"learnToolsVersion\": \"0.3.4\", \"failureMessage\": \"\", \"exceptionClass\": \"\", \"trace\": \"\"}}, \"*\")"
      ],
      "text/plain": [
       "<IPython.core.display.Javascript object>"
      ]
     },
     "metadata": {},
     "output_type": "display_data"
    },
    {
     "data": {
      "text/markdown": [
       "<span style=\"color:#33cc33\">Correct</span>"
      ],
      "text/plain": [
       "Correct"
      ]
     },
     "metadata": {},
     "output_type": "display_data"
    }
   ],
   "source": [
    "# TODO: Save the police killings dataset to CSV\n",
    "police_killings.to_csv(\"my_file.csv\")\n",
    "\n",
    "# Check your answer\n",
    "q3.check()"
   ]
  },
  {
   "cell_type": "code",
   "execution_count": 10,
   "id": "cfa75907",
   "metadata": {
    "execution": {
     "iopub.execute_input": "2024-01-05T10:19:52.342338Z",
     "iopub.status.busy": "2024-01-05T10:19:52.341950Z",
     "iopub.status.idle": "2024-01-05T10:19:52.347511Z",
     "shell.execute_reply": "2024-01-05T10:19:52.345957Z"
    },
    "papermill": {
     "duration": 0.013745,
     "end_time": "2024-01-05T10:19:52.349582",
     "exception": false,
     "start_time": "2024-01-05T10:19:52.335837",
     "status": "completed"
    },
    "tags": []
   },
   "outputs": [],
   "source": [
    "# Lines below will give you a hint or solution code\n",
    "#q3.hint()\n",
    "#q3.solution()"
   ]
  },
  {
   "cell_type": "markdown",
   "id": "a0339a9e",
   "metadata": {
    "papermill": {
     "duration": 0.004856,
     "end_time": "2024-01-05T10:19:52.359884",
     "exception": false,
     "start_time": "2024-01-05T10:19:52.355028",
     "status": "completed"
    },
    "tags": []
   },
   "source": [
    "# (Optional) More practice\n",
    "\n",
    "Check out [this dataset of files in different character encodings](https://www.kaggle.com/rtatman/character-encoding-examples). Can you read in all the files with their original encodings and them save them out as UTF-8 files?\n",
    "\n",
    "If you have a file that's in UTF-8 but has just a couple of weird-looking characters in it, you can try out the [ftfy module](https://ftfy.readthedocs.io/en/latest/#) and see if it helps. \n",
    "\n",
    "# Keep going\n",
    "\n",
    "In the final lesson, learn how to [**clean up inconsistent text entries**](https://www.kaggle.com/alexisbcook/inconsistent-data-entry) in your dataset."
   ]
  },
  {
   "cell_type": "markdown",
   "id": "4d82a0cb",
   "metadata": {
    "papermill": {
     "duration": 0.004531,
     "end_time": "2024-01-05T10:19:52.369437",
     "exception": false,
     "start_time": "2024-01-05T10:19:52.364906",
     "status": "completed"
    },
    "tags": []
   },
   "source": [
    "---\n",
    "\n",
    "\n",
    "\n",
    "\n",
    "*Have questions or comments? Visit the [course discussion forum](https://www.kaggle.com/learn/data-cleaning/discussion) to chat with other learners.*"
   ]
  }
 ],
 "metadata": {
  "kaggle": {
   "accelerator": "none",
   "dataSources": [
    {
     "datasetId": 2647,
     "sourceId": 4395,
     "sourceType": "datasetVersion"
    }
   ],
   "isGpuEnabled": false,
   "isInternetEnabled": false,
   "language": "python",
   "sourceType": "notebook"
  },
  "kernelspec": {
   "display_name": "Python 3",
   "language": "python",
   "name": "python3"
  },
  "language_info": {
   "codemirror_mode": {
    "name": "ipython",
    "version": 3
   },
   "file_extension": ".py",
   "mimetype": "text/x-python",
   "name": "python",
   "nbconvert_exporter": "python",
   "pygments_lexer": "ipython3",
   "version": "3.10.12"
  },
  "papermill": {
   "default_parameters": {},
   "duration": 4.275016,
   "end_time": "2024-01-05T10:19:52.997918",
   "environment_variables": {},
   "exception": null,
   "input_path": "__notebook__.ipynb",
   "output_path": "__notebook__.ipynb",
   "parameters": {},
   "start_time": "2024-01-05T10:19:48.722902",
   "version": "2.4.0"
  }
 },
 "nbformat": 4,
 "nbformat_minor": 5
}
