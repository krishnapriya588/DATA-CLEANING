{
 "cells": [
  {
   "cell_type": "markdown",
   "id": "ed4d1933",
   "metadata": {
    "papermill": {
     "duration": 0.007049,
     "end_time": "2024-01-05T10:21:10.801487",
     "exception": false,
     "start_time": "2024-01-05T10:21:10.794438",
     "status": "completed"
    },
    "tags": []
   },
   "source": [
    "**This notebook is an exercise in the [Data Cleaning](https://www.kaggle.com/learn/data-cleaning) course.  You can reference the tutorial at [this link](https://www.kaggle.com/alexisbcook/inconsistent-data-entry).**\n",
    "\n",
    "---\n"
   ]
  },
  {
   "cell_type": "markdown",
   "id": "6d2f8b64",
   "metadata": {
    "papermill": {
     "duration": 0.006355,
     "end_time": "2024-01-05T10:21:10.814719",
     "exception": false,
     "start_time": "2024-01-05T10:21:10.808364",
     "status": "completed"
    },
    "tags": []
   },
   "source": [
    "In this exercise, you'll apply what you learned in the **Inconsistent data entry** tutorial.\n",
    "\n",
    "# Setup\n",
    "\n",
    "The questions below will give you feedback on your work. Run the following cell to set up the feedback system."
   ]
  },
  {
   "cell_type": "code",
   "execution_count": 1,
   "id": "a7e1f372",
   "metadata": {
    "execution": {
     "iopub.execute_input": "2024-01-05T10:21:10.830046Z",
     "iopub.status.busy": "2024-01-05T10:21:10.829340Z",
     "iopub.status.idle": "2024-01-05T10:21:11.459597Z",
     "shell.execute_reply": "2024-01-05T10:21:11.458125Z"
    },
    "papermill": {
     "duration": 0.640616,
     "end_time": "2024-01-05T10:21:11.462025",
     "exception": false,
     "start_time": "2024-01-05T10:21:10.821409",
     "status": "completed"
    },
    "tags": []
   },
   "outputs": [
    {
     "name": "stdout",
     "output_type": "stream",
     "text": [
      "Setup Complete\n"
     ]
    }
   ],
   "source": [
    "from learntools.core import binder\n",
    "binder.bind(globals())\n",
    "from learntools.data_cleaning.ex5 import *\n",
    "print(\"Setup Complete\")"
   ]
  },
  {
   "cell_type": "markdown",
   "id": "d13abc94",
   "metadata": {
    "papermill": {
     "duration": 0.006567,
     "end_time": "2024-01-05T10:21:11.475461",
     "exception": false,
     "start_time": "2024-01-05T10:21:11.468894",
     "status": "completed"
    },
    "tags": []
   },
   "source": [
    "# Get our environment set up\n",
    "\n",
    "The first thing we'll need to do is load in the libraries and dataset we'll be using.  We use the same dataset from the tutorial."
   ]
  },
  {
   "cell_type": "code",
   "execution_count": 2,
   "id": "7377b6cc",
   "metadata": {
    "execution": {
     "iopub.execute_input": "2024-01-05T10:21:11.490450Z",
     "iopub.status.busy": "2024-01-05T10:21:11.490049Z",
     "iopub.status.idle": "2024-01-05T10:21:11.507202Z",
     "shell.execute_reply": "2024-01-05T10:21:11.506315Z"
    },
    "papermill": {
     "duration": 0.027707,
     "end_time": "2024-01-05T10:21:11.509789",
     "exception": false,
     "start_time": "2024-01-05T10:21:11.482082",
     "status": "completed"
    },
    "tags": []
   },
   "outputs": [],
   "source": [
    "# modules we'll use\n",
    "import pandas as pd\n",
    "import numpy as np\n",
    "\n",
    "# helpful modules\n",
    "import fuzzywuzzy\n",
    "from fuzzywuzzy import process\n",
    "import charset_normalizer\n",
    "\n",
    "# read in all our data\n",
    "professors = pd.read_csv(\"../input/pakistan-intellectual-capital/pakistan_intellectual_capital.csv\")\n",
    "\n",
    "# set seed for reproducibility\n",
    "np.random.seed(0)"
   ]
  },
  {
   "cell_type": "markdown",
   "id": "14b91505",
   "metadata": {
    "papermill": {
     "duration": 0.006536,
     "end_time": "2024-01-05T10:21:11.523154",
     "exception": false,
     "start_time": "2024-01-05T10:21:11.516618",
     "status": "completed"
    },
    "tags": []
   },
   "source": [
    "Next, we'll redo all of the work that we did in the tutorial."
   ]
  },
  {
   "cell_type": "code",
   "execution_count": 3,
   "id": "2f68d9bf",
   "metadata": {
    "execution": {
     "iopub.execute_input": "2024-01-05T10:21:11.538745Z",
     "iopub.status.busy": "2024-01-05T10:21:11.537923Z",
     "iopub.status.idle": "2024-01-05T10:21:11.553468Z",
     "shell.execute_reply": "2024-01-05T10:21:11.552122Z"
    },
    "papermill": {
     "duration": 0.025652,
     "end_time": "2024-01-05T10:21:11.555624",
     "exception": false,
     "start_time": "2024-01-05T10:21:11.529972",
     "status": "completed"
    },
    "tags": []
   },
   "outputs": [
    {
     "name": "stdout",
     "output_type": "stream",
     "text": [
      "All done!\n"
     ]
    }
   ],
   "source": [
    "# convert to lower case\n",
    "professors['Country'] = professors['Country'].str.lower()\n",
    "# remove trailing white spaces\n",
    "professors['Country'] = professors['Country'].str.strip()\n",
    "\n",
    "# get the top 10 closest matches to \"south korea\"\n",
    "countries = professors['Country'].unique()\n",
    "matches = fuzzywuzzy.process.extract(\"south korea\", countries, limit=10, scorer=fuzzywuzzy.fuzz.token_sort_ratio)\n",
    "\n",
    "def replace_matches_in_column(df, column, string_to_match, min_ratio = 47):\n",
    "    # get a list of unique strings\n",
    "    strings = df[column].unique()\n",
    "    \n",
    "    # get the top 10 closest matches to our input string\n",
    "    matches = fuzzywuzzy.process.extract(string_to_match, strings, \n",
    "                                         limit=10, scorer=fuzzywuzzy.fuzz.token_sort_ratio)\n",
    "\n",
    "    # only get matches with a ratio > 90\n",
    "    close_matches = [matches[0] for matches in matches if matches[1] >= min_ratio]\n",
    "\n",
    "    # get the rows of all the close matches in our dataframe\n",
    "    rows_with_matches = df[column].isin(close_matches)\n",
    "\n",
    "    # replace all rows with close matches with the input matches \n",
    "    df.loc[rows_with_matches, column] = string_to_match\n",
    "    \n",
    "    # let us know the function's done\n",
    "    print(\"All done!\")\n",
    "    \n",
    "replace_matches_in_column(df=professors, column='Country', string_to_match=\"south korea\")\n",
    "countries = professors['Country'].unique()"
   ]
  },
  {
   "cell_type": "markdown",
   "id": "76d60b4c",
   "metadata": {
    "papermill": {
     "duration": 0.006413,
     "end_time": "2024-01-05T10:21:11.568956",
     "exception": false,
     "start_time": "2024-01-05T10:21:11.562543",
     "status": "completed"
    },
    "tags": []
   },
   "source": [
    "# 1) Examine another column\n",
    "\n",
    "Write code below to take a look at all the unique values in the \"Graduated from\" column."
   ]
  },
  {
   "cell_type": "code",
   "execution_count": 4,
   "id": "0d9fb0c9",
   "metadata": {
    "execution": {
     "iopub.execute_input": "2024-01-05T10:21:11.584317Z",
     "iopub.status.busy": "2024-01-05T10:21:11.583697Z",
     "iopub.status.idle": "2024-01-05T10:21:11.587955Z",
     "shell.execute_reply": "2024-01-05T10:21:11.587271Z"
    },
    "papermill": {
     "duration": 0.014348,
     "end_time": "2024-01-05T10:21:11.589956",
     "exception": false,
     "start_time": "2024-01-05T10:21:11.575608",
     "status": "completed"
    },
    "tags": []
   },
   "outputs": [],
   "source": [
    "# TODO: Your code here\n",
    "unis = professors['Graduated from'].unique()"
   ]
  },
  {
   "cell_type": "markdown",
   "id": "b64d53a3",
   "metadata": {
    "papermill": {
     "duration": 0.006496,
     "end_time": "2024-01-05T10:21:11.603189",
     "exception": false,
     "start_time": "2024-01-05T10:21:11.596693",
     "status": "completed"
    },
    "tags": []
   },
   "source": [
    "Do you notice any inconsistencies in the data?  Can any of the inconsistencies in the data be fixed by removing white spaces at the beginning and end of cells?\n",
    "\n",
    "Once you have answered these questions, run the code cell below to get credit for your work."
   ]
  },
  {
   "cell_type": "code",
   "execution_count": 5,
   "id": "d2f315d4",
   "metadata": {
    "execution": {
     "iopub.execute_input": "2024-01-05T10:21:11.618463Z",
     "iopub.status.busy": "2024-01-05T10:21:11.618063Z",
     "iopub.status.idle": "2024-01-05T10:21:11.627653Z",
     "shell.execute_reply": "2024-01-05T10:21:11.626605Z"
    },
    "papermill": {
     "duration": 0.02002,
     "end_time": "2024-01-05T10:21:11.629889",
     "exception": false,
     "start_time": "2024-01-05T10:21:11.609869",
     "status": "completed"
    },
    "tags": []
   },
   "outputs": [
    {
     "data": {
      "application/javascript": [
       "parent.postMessage({\"jupyterEvent\": \"custom.exercise_interaction\", \"data\": {\"outcomeType\": 1, \"valueTowardsCompletion\": 0.3333333333333333, \"interactionType\": 1, \"questionType\": 4, \"questionId\": \"1_ExamineProvince\", \"learnToolsVersion\": \"0.3.4\", \"failureMessage\": \"\", \"exceptionClass\": \"\", \"trace\": \"\"}}, \"*\")"
      ],
      "text/plain": [
       "<IPython.core.display.Javascript object>"
      ]
     },
     "metadata": {},
     "output_type": "display_data"
    },
    {
     "data": {
      "text/markdown": [
       "<span style=\"color:#33cc33\">Correct:</span> \n",
       "\n",
       "There are inconsistencies that can be fixed by removing white spaces at the beginning and end of cells.  For instance, \"University of Central Florida\" and \" University of Central Florida\" both appear in the column."
      ],
      "text/plain": [
       "Correct: \n",
       "\n",
       "There are inconsistencies that can be fixed by removing white spaces at the beginning and end of cells.  For instance, \"University of Central Florida\" and \" University of Central Florida\" both appear in the column."
      ]
     },
     "metadata": {},
     "output_type": "display_data"
    }
   ],
   "source": [
    "# Check your answer (Run this code cell to receive credit!)\n",
    "q1.check()"
   ]
  },
  {
   "cell_type": "code",
   "execution_count": 6,
   "id": "89692d78",
   "metadata": {
    "execution": {
     "iopub.execute_input": "2024-01-05T10:21:11.646796Z",
     "iopub.status.busy": "2024-01-05T10:21:11.645696Z",
     "iopub.status.idle": "2024-01-05T10:21:11.650374Z",
     "shell.execute_reply": "2024-01-05T10:21:11.649320Z"
    },
    "papermill": {
     "duration": 0.015559,
     "end_time": "2024-01-05T10:21:11.652614",
     "exception": false,
     "start_time": "2024-01-05T10:21:11.637055",
     "status": "completed"
    },
    "tags": []
   },
   "outputs": [],
   "source": [
    "# Line below will give you a hint\n",
    "#q1.hint()"
   ]
  },
  {
   "cell_type": "markdown",
   "id": "57b99012",
   "metadata": {
    "papermill": {
     "duration": 0.006814,
     "end_time": "2024-01-05T10:21:11.666658",
     "exception": false,
     "start_time": "2024-01-05T10:21:11.659844",
     "status": "completed"
    },
    "tags": []
   },
   "source": [
    "# 2) Do some text pre-processing\n",
    "\n",
    "Convert every entry in the \"Graduated from\" column in the `professors` DataFrame to remove white spaces at the beginning and end of cells."
   ]
  },
  {
   "cell_type": "code",
   "execution_count": 7,
   "id": "a7d5bb44",
   "metadata": {
    "execution": {
     "iopub.execute_input": "2024-01-05T10:21:11.682647Z",
     "iopub.status.busy": "2024-01-05T10:21:11.682234Z",
     "iopub.status.idle": "2024-01-05T10:21:11.694605Z",
     "shell.execute_reply": "2024-01-05T10:21:11.693582Z"
    },
    "papermill": {
     "duration": 0.02309,
     "end_time": "2024-01-05T10:21:11.696780",
     "exception": false,
     "start_time": "2024-01-05T10:21:11.673690",
     "status": "completed"
    },
    "tags": []
   },
   "outputs": [
    {
     "data": {
      "application/javascript": [
       "parent.postMessage({\"jupyterEvent\": \"custom.exercise_interaction\", \"data\": {\"outcomeType\": 1, \"valueTowardsCompletion\": 0.3333333333333333, \"interactionType\": 1, \"questionType\": 1, \"questionId\": \"2_TextProcessing\", \"learnToolsVersion\": \"0.3.4\", \"failureMessage\": \"\", \"exceptionClass\": \"\", \"trace\": \"\"}}, \"*\")"
      ],
      "text/plain": [
       "<IPython.core.display.Javascript object>"
      ]
     },
     "metadata": {},
     "output_type": "display_data"
    },
    {
     "data": {
      "text/markdown": [
       "<span style=\"color:#33cc33\">Correct</span>"
      ],
      "text/plain": [
       "Correct"
      ]
     },
     "metadata": {},
     "output_type": "display_data"
    }
   ],
   "source": [
    "# TODO: Your code here\n",
    "professors['Graduated from'] = professors['Graduated from'].str.strip()\n",
    "\n",
    "# Check your answer\n",
    "q2.check()"
   ]
  },
  {
   "cell_type": "code",
   "execution_count": 8,
   "id": "a57b41ca",
   "metadata": {
    "execution": {
     "iopub.execute_input": "2024-01-05T10:21:11.714597Z",
     "iopub.status.busy": "2024-01-05T10:21:11.714169Z",
     "iopub.status.idle": "2024-01-05T10:21:11.718985Z",
     "shell.execute_reply": "2024-01-05T10:21:11.717733Z"
    },
    "papermill": {
     "duration": 0.016056,
     "end_time": "2024-01-05T10:21:11.721293",
     "exception": false,
     "start_time": "2024-01-05T10:21:11.705237",
     "status": "completed"
    },
    "tags": []
   },
   "outputs": [],
   "source": [
    "# Lines below will give you a hint or solution code\n",
    "#q2.hint()\n",
    "#q2.solution()"
   ]
  },
  {
   "cell_type": "markdown",
   "id": "2d3caee5",
   "metadata": {
    "papermill": {
     "duration": 0.007231,
     "end_time": "2024-01-05T10:21:11.736103",
     "exception": false,
     "start_time": "2024-01-05T10:21:11.728872",
     "status": "completed"
    },
    "tags": []
   },
   "source": [
    "# 3) Continue working with countries\n",
    "\n",
    "In the tutorial, we focused on cleaning up inconsistencies in the \"Country\" column.  Run the code cell below to view the list of unique values that we ended with."
   ]
  },
  {
   "cell_type": "code",
   "execution_count": 9,
   "id": "48d9b3a9",
   "metadata": {
    "execution": {
     "iopub.execute_input": "2024-01-05T10:21:11.752784Z",
     "iopub.status.busy": "2024-01-05T10:21:11.752364Z",
     "iopub.status.idle": "2024-01-05T10:21:11.759730Z",
     "shell.execute_reply": "2024-01-05T10:21:11.758976Z"
    },
    "papermill": {
     "duration": 0.018381,
     "end_time": "2024-01-05T10:21:11.762037",
     "exception": false,
     "start_time": "2024-01-05T10:21:11.743656",
     "status": "completed"
    },
    "tags": []
   },
   "outputs": [
    {
     "data": {
      "text/plain": [
       "array(['australia', 'austria', 'canada', 'china', 'finland', 'france',\n",
       "       'germany', 'greece', 'hongkong', 'ireland', 'italy', 'japan',\n",
       "       'macau', 'malaysia', 'mauritius', 'netherland', 'new zealand',\n",
       "       'norway', 'pakistan', 'portugal', 'russian federation',\n",
       "       'saudi arabia', 'scotland', 'singapore', 'south korea', 'spain',\n",
       "       'sweden', 'thailand', 'turkey', 'uk', 'urbana', 'usa', 'usofa'],\n",
       "      dtype=object)"
      ]
     },
     "execution_count": 9,
     "metadata": {},
     "output_type": "execute_result"
    }
   ],
   "source": [
    "# get all the unique values in the 'City' column\n",
    "countries = professors['Country'].unique()\n",
    "\n",
    "# sort them alphabetically and then take a closer look\n",
    "countries.sort()\n",
    "countries"
   ]
  },
  {
   "cell_type": "markdown",
   "id": "497b718f",
   "metadata": {
    "papermill": {
     "duration": 0.00741,
     "end_time": "2024-01-05T10:21:11.776960",
     "exception": false,
     "start_time": "2024-01-05T10:21:11.769550",
     "status": "completed"
    },
    "tags": []
   },
   "source": [
    "Take another look at the \"Country\" column and see if there's any more data cleaning we need to do.\n",
    "\n",
    "It looks like 'usa' and 'usofa' should be the same country.  Correct the \"Country\" column in the dataframe to replace 'usofa' with 'usa'.\n",
    "\n",
    "**Use the most recent version of the DataFrame (with the whitespaces at the beginning and end of cells removed) from question 2.**"
   ]
  },
  {
   "cell_type": "code",
   "execution_count": 10,
   "id": "ddca4515",
   "metadata": {
    "execution": {
     "iopub.execute_input": "2024-01-05T10:21:11.794106Z",
     "iopub.status.busy": "2024-01-05T10:21:11.793758Z",
     "iopub.status.idle": "2024-01-05T10:21:11.805657Z",
     "shell.execute_reply": "2024-01-05T10:21:11.804870Z"
    },
    "papermill": {
     "duration": 0.023069,
     "end_time": "2024-01-05T10:21:11.807650",
     "exception": false,
     "start_time": "2024-01-05T10:21:11.784581",
     "status": "completed"
    },
    "tags": []
   },
   "outputs": [
    {
     "name": "stdout",
     "output_type": "stream",
     "text": [
      "All done!\n"
     ]
    },
    {
     "data": {
      "application/javascript": [
       "parent.postMessage({\"jupyterEvent\": \"custom.exercise_interaction\", \"data\": {\"outcomeType\": 1, \"valueTowardsCompletion\": 0.3333333333333333, \"interactionType\": 1, \"questionType\": 1, \"questionId\": \"3_WorkingWithCities\", \"learnToolsVersion\": \"0.3.4\", \"failureMessage\": \"\", \"exceptionClass\": \"\", \"trace\": \"\"}}, \"*\")"
      ],
      "text/plain": [
       "<IPython.core.display.Javascript object>"
      ]
     },
     "metadata": {},
     "output_type": "display_data"
    },
    {
     "data": {
      "text/markdown": [
       "<span style=\"color:#33cc33\">Correct</span>"
      ],
      "text/plain": [
       "Correct"
      ]
     },
     "metadata": {},
     "output_type": "display_data"
    }
   ],
   "source": [
    "# TODO: Your code here!\n",
    "matches = fuzzywuzzy.process.extract(\"usa\", countries, limit=10, scorer=fuzzywuzzy.fuzz.token_sort_ratio)\n",
    "replace_matches_in_column(df=professors, column='Country', string_to_match=\"usa\", min_ratio=70)\n",
    "\n",
    "# Check your answer\n",
    "q3.check()"
   ]
  },
  {
   "cell_type": "code",
   "execution_count": 11,
   "id": "dd784e8d",
   "metadata": {
    "execution": {
     "iopub.execute_input": "2024-01-05T10:21:11.825659Z",
     "iopub.status.busy": "2024-01-05T10:21:11.824983Z",
     "iopub.status.idle": "2024-01-05T10:21:11.829797Z",
     "shell.execute_reply": "2024-01-05T10:21:11.828707Z"
    },
    "papermill": {
     "duration": 0.016502,
     "end_time": "2024-01-05T10:21:11.832096",
     "exception": false,
     "start_time": "2024-01-05T10:21:11.815594",
     "status": "completed"
    },
    "tags": []
   },
   "outputs": [],
   "source": [
    "# Lines below will give you a hint or solution code\n",
    "#q3.hint()\n",
    "#q3.solution()"
   ]
  },
  {
   "cell_type": "markdown",
   "id": "c6825993",
   "metadata": {
    "papermill": {
     "duration": 0.007847,
     "end_time": "2024-01-05T10:21:11.847960",
     "exception": false,
     "start_time": "2024-01-05T10:21:11.840113",
     "status": "completed"
    },
    "tags": []
   },
   "source": [
    "# Congratulations!\n",
    "\n",
    "Congratulations for completing the **Data Cleaning** course on Kaggle Learn!\n",
    "\n",
    "To practice your new skills, you're encouraged to download and investigate some of [Kaggle's Datasets](https://www.kaggle.com/datasets)."
   ]
  },
  {
   "cell_type": "markdown",
   "id": "78e625a6",
   "metadata": {
    "papermill": {
     "duration": 0.00796,
     "end_time": "2024-01-05T10:21:11.864074",
     "exception": false,
     "start_time": "2024-01-05T10:21:11.856114",
     "status": "completed"
    },
    "tags": []
   },
   "source": [
    "---\n",
    "\n",
    "\n",
    "\n",
    "\n",
    "*Have questions or comments? Visit the [course discussion forum](https://www.kaggle.com/learn/data-cleaning/discussion) to chat with other learners.*"
   ]
  }
 ],
 "metadata": {
  "kaggle": {
   "accelerator": "none",
   "dataSources": [
    {
     "datasetId": 819513,
     "sourceId": 1402182,
     "sourceType": "datasetVersion"
    }
   ],
   "isGpuEnabled": false,
   "isInternetEnabled": false,
   "language": "python",
   "sourceType": "notebook"
  },
  "kernelspec": {
   "display_name": "Python 3",
   "language": "python",
   "name": "python3"
  },
  "language_info": {
   "codemirror_mode": {
    "name": "ipython",
    "version": 3
   },
   "file_extension": ".py",
   "mimetype": "text/x-python",
   "name": "python",
   "nbconvert_exporter": "python",
   "pygments_lexer": "ipython3",
   "version": "3.10.12"
  },
  "papermill": {
   "default_parameters": {},
   "duration": 4.96106,
   "end_time": "2024-01-05T10:21:12.392284",
   "environment_variables": {},
   "exception": null,
   "input_path": "__notebook__.ipynb",
   "output_path": "__notebook__.ipynb",
   "parameters": {},
   "start_time": "2024-01-05T10:21:07.431224",
   "version": "2.4.0"
  }
 },
 "nbformat": 4,
 "nbformat_minor": 5
}
