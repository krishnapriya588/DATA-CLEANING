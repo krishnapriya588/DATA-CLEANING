{
 "cells": [
  {
   "cell_type": "markdown",
   "id": "6746dc05",
   "metadata": {
    "papermill": {
     "duration": 0.007129,
     "end_time": "2024-01-05T12:05:52.323993",
     "exception": false,
     "start_time": "2024-01-05T12:05:52.316864",
     "status": "completed"
    },
    "tags": []
   },
   "source": [
    "**This notebook is an exercise in the [Data Cleaning](https://www.kaggle.com/learn/data-cleaning) course.  You can reference the tutorial at [this link](https://www.kaggle.com/alexisbcook/inconsistent-data-entry).**\n",
    "\n",
    "---\n"
   ]
  },
  {
   "cell_type": "markdown",
   "id": "a34f2a2e",
   "metadata": {
    "papermill": {
     "duration": 0.006212,
     "end_time": "2024-01-05T12:05:52.336842",
     "exception": false,
     "start_time": "2024-01-05T12:05:52.330630",
     "status": "completed"
    },
    "tags": []
   },
   "source": [
    "In this exercise, you'll apply what you learned in the **Inconsistent data entry** tutorial.\n",
    "\n",
    "# Setup\n",
    "\n",
    "The questions below will give you feedback on your work. Run the following cell to set up the feedback system."
   ]
  },
  {
   "cell_type": "code",
   "execution_count": 1,
   "id": "78f7321d",
   "metadata": {
    "execution": {
     "iopub.execute_input": "2024-01-05T12:05:52.351642Z",
     "iopub.status.busy": "2024-01-05T12:05:52.351265Z",
     "iopub.status.idle": "2024-01-05T12:05:52.963121Z",
     "shell.execute_reply": "2024-01-05T12:05:52.961963Z"
    },
    "papermill": {
     "duration": 0.622743,
     "end_time": "2024-01-05T12:05:52.966159",
     "exception": false,
     "start_time": "2024-01-05T12:05:52.343416",
     "status": "completed"
    },
    "tags": []
   },
   "outputs": [
    {
     "name": "stdout",
     "output_type": "stream",
     "text": [
      "Setup Complete\n"
     ]
    }
   ],
   "source": [
    "from learntools.core import binder\n",
    "binder.bind(globals())\n",
    "from learntools.data_cleaning.ex5 import *\n",
    "print(\"Setup Complete\")"
   ]
  },
  {
   "cell_type": "markdown",
   "id": "3fe6397f",
   "metadata": {
    "papermill": {
     "duration": 0.00661,
     "end_time": "2024-01-05T12:05:52.980112",
     "exception": false,
     "start_time": "2024-01-05T12:05:52.973502",
     "status": "completed"
    },
    "tags": []
   },
   "source": [
    "# Get our environment set up\n",
    "\n",
    "The first thing we'll need to do is load in the libraries and dataset we'll be using.  We use the same dataset from the tutorial."
   ]
  },
  {
   "cell_type": "code",
   "execution_count": 2,
   "id": "7e5a6132",
   "metadata": {
    "execution": {
     "iopub.execute_input": "2024-01-05T12:05:52.995325Z",
     "iopub.status.busy": "2024-01-05T12:05:52.994953Z",
     "iopub.status.idle": "2024-01-05T12:05:53.011521Z",
     "shell.execute_reply": "2024-01-05T12:05:53.010520Z"
    },
    "papermill": {
     "duration": 0.027352,
     "end_time": "2024-01-05T12:05:53.014127",
     "exception": false,
     "start_time": "2024-01-05T12:05:52.986775",
     "status": "completed"
    },
    "tags": []
   },
   "outputs": [],
   "source": [
    "# modules we'll use\n",
    "import pandas as pd\n",
    "import numpy as np\n",
    "\n",
    "# helpful modules\n",
    "import fuzzywuzzy\n",
    "from fuzzywuzzy import process\n",
    "import charset_normalizer\n",
    "\n",
    "# read in all our data\n",
    "professors = pd.read_csv(\"../input/pakistan-intellectual-capital/pakistan_intellectual_capital.csv\")\n",
    "\n",
    "# set seed for reproducibility\n",
    "np.random.seed(0)"
   ]
  },
  {
   "cell_type": "markdown",
   "id": "a2942c72",
   "metadata": {
    "papermill": {
     "duration": 0.006699,
     "end_time": "2024-01-05T12:05:53.027836",
     "exception": false,
     "start_time": "2024-01-05T12:05:53.021137",
     "status": "completed"
    },
    "tags": []
   },
   "source": [
    "Next, we'll redo all of the work that we did in the tutorial."
   ]
  },
  {
   "cell_type": "code",
   "execution_count": 3,
   "id": "76fb640e",
   "metadata": {
    "execution": {
     "iopub.execute_input": "2024-01-05T12:05:53.043929Z",
     "iopub.status.busy": "2024-01-05T12:05:53.043525Z",
     "iopub.status.idle": "2024-01-05T12:05:53.059348Z",
     "shell.execute_reply": "2024-01-05T12:05:53.058373Z"
    },
    "papermill": {
     "duration": 0.0268,
     "end_time": "2024-01-05T12:05:53.061463",
     "exception": false,
     "start_time": "2024-01-05T12:05:53.034663",
     "status": "completed"
    },
    "tags": []
   },
   "outputs": [
    {
     "name": "stdout",
     "output_type": "stream",
     "text": [
      "All done!\n"
     ]
    }
   ],
   "source": [
    "# convert to lower case\n",
    "professors['Country'] = professors['Country'].str.lower()\n",
    "# remove trailing white spaces\n",
    "professors['Country'] = professors['Country'].str.strip()\n",
    "\n",
    "# get the top 10 closest matches to \"south korea\"\n",
    "countries = professors['Country'].unique()\n",
    "matches = fuzzywuzzy.process.extract(\"south korea\", countries, limit=10, scorer=fuzzywuzzy.fuzz.token_sort_ratio)\n",
    "\n",
    "def replace_matches_in_column(df, column, string_to_match, min_ratio = 47):\n",
    "    # get a list of unique strings\n",
    "    strings = df[column].unique()\n",
    "    \n",
    "    # get the top 10 closest matches to our input string\n",
    "    matches = fuzzywuzzy.process.extract(string_to_match, strings, \n",
    "                                         limit=10, scorer=fuzzywuzzy.fuzz.token_sort_ratio)\n",
    "\n",
    "    # only get matches with a ratio > 90\n",
    "    close_matches = [matches[0] for matches in matches if matches[1] >= min_ratio]\n",
    "\n",
    "    # get the rows of all the close matches in our dataframe\n",
    "    rows_with_matches = df[column].isin(close_matches)\n",
    "\n",
    "    # replace all rows with close matches with the input matches \n",
    "    df.loc[rows_with_matches, column] = string_to_match\n",
    "    \n",
    "    # let us know the function's done\n",
    "    print(\"All done!\")\n",
    "    \n",
    "replace_matches_in_column(df=professors, column='Country', string_to_match=\"south korea\")\n",
    "countries = professors['Country'].unique()"
   ]
  },
  {
   "cell_type": "markdown",
   "id": "d5e63aac",
   "metadata": {
    "papermill": {
     "duration": 0.007015,
     "end_time": "2024-01-05T12:05:53.075531",
     "exception": false,
     "start_time": "2024-01-05T12:05:53.068516",
     "status": "completed"
    },
    "tags": []
   },
   "source": [
    "# 1) Examine another column\n",
    "\n",
    "Write code below to take a look at all the unique values in the \"Graduated from\" column."
   ]
  },
  {
   "cell_type": "code",
   "execution_count": 4,
   "id": "8bb8fa3e",
   "metadata": {
    "execution": {
     "iopub.execute_input": "2024-01-05T12:05:53.092189Z",
     "iopub.status.busy": "2024-01-05T12:05:53.091183Z",
     "iopub.status.idle": "2024-01-05T12:05:53.097128Z",
     "shell.execute_reply": "2024-01-05T12:05:53.096065Z"
    },
    "papermill": {
     "duration": 0.016675,
     "end_time": "2024-01-05T12:05:53.099314",
     "exception": false,
     "start_time": "2024-01-05T12:05:53.082639",
     "status": "completed"
    },
    "tags": []
   },
   "outputs": [],
   "source": [
    "# TODO: Your code here\n",
    "unis = professors['Graduated from'].unique()"
   ]
  },
  {
   "cell_type": "markdown",
   "id": "d6730401",
   "metadata": {
    "papermill": {
     "duration": 0.0068,
     "end_time": "2024-01-05T12:05:53.113471",
     "exception": false,
     "start_time": "2024-01-05T12:05:53.106671",
     "status": "completed"
    },
    "tags": []
   },
   "source": [
    "Do you notice any inconsistencies in the data?  Can any of the inconsistencies in the data be fixed by removing white spaces at the beginning and end of cells?\n",
    "\n",
    "Once you have answered these questions, run the code cell below to get credit for your work."
   ]
  },
  {
   "cell_type": "code",
   "execution_count": 5,
   "id": "ec7c597e",
   "metadata": {
    "execution": {
     "iopub.execute_input": "2024-01-05T12:05:53.130193Z",
     "iopub.status.busy": "2024-01-05T12:05:53.129798Z",
     "iopub.status.idle": "2024-01-05T12:05:53.140729Z",
     "shell.execute_reply": "2024-01-05T12:05:53.139545Z"
    },
    "papermill": {
     "duration": 0.022257,
     "end_time": "2024-01-05T12:05:53.143252",
     "exception": false,
     "start_time": "2024-01-05T12:05:53.120995",
     "status": "completed"
    },
    "tags": []
   },
   "outputs": [
    {
     "data": {
      "application/javascript": [
       "parent.postMessage({\"jupyterEvent\": \"custom.exercise_interaction\", \"data\": {\"outcomeType\": 1, \"valueTowardsCompletion\": 0.3333333333333333, \"interactionType\": 1, \"questionType\": 4, \"questionId\": \"1_ExamineProvince\", \"learnToolsVersion\": \"0.3.4\", \"failureMessage\": \"\", \"exceptionClass\": \"\", \"trace\": \"\"}}, \"*\")"
      ],
      "text/plain": [
       "<IPython.core.display.Javascript object>"
      ]
     },
     "metadata": {},
     "output_type": "display_data"
    },
    {
     "data": {
      "text/markdown": [
       "<span style=\"color:#33cc33\">Correct:</span> \n",
       "\n",
       "There are inconsistencies that can be fixed by removing white spaces at the beginning and end of cells.  For instance, \"University of Central Florida\" and \" University of Central Florida\" both appear in the column."
      ],
      "text/plain": [
       "Correct: \n",
       "\n",
       "There are inconsistencies that can be fixed by removing white spaces at the beginning and end of cells.  For instance, \"University of Central Florida\" and \" University of Central Florida\" both appear in the column."
      ]
     },
     "metadata": {},
     "output_type": "display_data"
    }
   ],
   "source": [
    "# Check your answer (Run this code cell to receive credit!)\n",
    "q1.check()"
   ]
  },
  {
   "cell_type": "code",
   "execution_count": 6,
   "id": "f88b782a",
   "metadata": {
    "execution": {
     "iopub.execute_input": "2024-01-05T12:05:53.159316Z",
     "iopub.status.busy": "2024-01-05T12:05:53.158921Z",
     "iopub.status.idle": "2024-01-05T12:05:53.163089Z",
     "shell.execute_reply": "2024-01-05T12:05:53.162246Z"
    },
    "papermill": {
     "duration": 0.014866,
     "end_time": "2024-01-05T12:05:53.165255",
     "exception": false,
     "start_time": "2024-01-05T12:05:53.150389",
     "status": "completed"
    },
    "tags": []
   },
   "outputs": [],
   "source": [
    "# Line below will give you a hint\n",
    "#q1.hint()"
   ]
  },
  {
   "cell_type": "markdown",
   "id": "1521e766",
   "metadata": {
    "papermill": {
     "duration": 0.007279,
     "end_time": "2024-01-05T12:05:53.179857",
     "exception": false,
     "start_time": "2024-01-05T12:05:53.172578",
     "status": "completed"
    },
    "tags": []
   },
   "source": [
    "# 2) Do some text pre-processing\n",
    "\n",
    "Convert every entry in the \"Graduated from\" column in the `professors` DataFrame to remove white spaces at the beginning and end of cells."
   ]
  },
  {
   "cell_type": "code",
   "execution_count": 7,
   "id": "75eae772",
   "metadata": {
    "execution": {
     "iopub.execute_input": "2024-01-05T12:05:53.196308Z",
     "iopub.status.busy": "2024-01-05T12:05:53.195914Z",
     "iopub.status.idle": "2024-01-05T12:05:53.208292Z",
     "shell.execute_reply": "2024-01-05T12:05:53.207522Z"
    },
    "papermill": {
     "duration": 0.023203,
     "end_time": "2024-01-05T12:05:53.210223",
     "exception": false,
     "start_time": "2024-01-05T12:05:53.187020",
     "status": "completed"
    },
    "tags": []
   },
   "outputs": [
    {
     "data": {
      "application/javascript": [
       "parent.postMessage({\"jupyterEvent\": \"custom.exercise_interaction\", \"data\": {\"outcomeType\": 1, \"valueTowardsCompletion\": 0.3333333333333333, \"interactionType\": 1, \"questionType\": 1, \"questionId\": \"2_TextProcessing\", \"learnToolsVersion\": \"0.3.4\", \"failureMessage\": \"\", \"exceptionClass\": \"\", \"trace\": \"\"}}, \"*\")"
      ],
      "text/plain": [
       "<IPython.core.display.Javascript object>"
      ]
     },
     "metadata": {},
     "output_type": "display_data"
    },
    {
     "data": {
      "text/markdown": [
       "<span style=\"color:#33cc33\">Correct</span>"
      ],
      "text/plain": [
       "Correct"
      ]
     },
     "metadata": {},
     "output_type": "display_data"
    }
   ],
   "source": [
    "# TODO: Your code here\n",
    "professors['Graduated from'] = professors['Graduated from'].str.strip()\n",
    "\n",
    "# Check your answer\n",
    "q2.check()"
   ]
  },
  {
   "cell_type": "code",
   "execution_count": 8,
   "id": "4c86d1be",
   "metadata": {
    "execution": {
     "iopub.execute_input": "2024-01-05T12:05:53.227022Z",
     "iopub.status.busy": "2024-01-05T12:05:53.226277Z",
     "iopub.status.idle": "2024-01-05T12:05:53.230281Z",
     "shell.execute_reply": "2024-01-05T12:05:53.229544Z"
    },
    "papermill": {
     "duration": 0.014558,
     "end_time": "2024-01-05T12:05:53.232295",
     "exception": false,
     "start_time": "2024-01-05T12:05:53.217737",
     "status": "completed"
    },
    "tags": []
   },
   "outputs": [],
   "source": [
    "# Lines below will give you a hint or solution code\n",
    "#q2.hint()\n",
    "#q2.solution()"
   ]
  },
  {
   "cell_type": "markdown",
   "id": "b2f60fae",
   "metadata": {
    "papermill": {
     "duration": 0.007606,
     "end_time": "2024-01-05T12:05:53.247392",
     "exception": false,
     "start_time": "2024-01-05T12:05:53.239786",
     "status": "completed"
    },
    "tags": []
   },
   "source": [
    "# 3) Continue working with countries\n",
    "\n",
    "In the tutorial, we focused on cleaning up inconsistencies in the \"Country\" column.  Run the code cell below to view the list of unique values that we ended with."
   ]
  },
  {
   "cell_type": "code",
   "execution_count": 9,
   "id": "52702857",
   "metadata": {
    "execution": {
     "iopub.execute_input": "2024-01-05T12:05:53.265029Z",
     "iopub.status.busy": "2024-01-05T12:05:53.264611Z",
     "iopub.status.idle": "2024-01-05T12:05:53.272932Z",
     "shell.execute_reply": "2024-01-05T12:05:53.271892Z"
    },
    "papermill": {
     "duration": 0.019631,
     "end_time": "2024-01-05T12:05:53.275135",
     "exception": false,
     "start_time": "2024-01-05T12:05:53.255504",
     "status": "completed"
    },
    "tags": []
   },
   "outputs": [
    {
     "data": {
      "text/plain": [
       "array(['australia', 'austria', 'canada', 'china', 'finland', 'france',\n",
       "       'germany', 'greece', 'hongkong', 'ireland', 'italy', 'japan',\n",
       "       'macau', 'malaysia', 'mauritius', 'netherland', 'new zealand',\n",
       "       'norway', 'pakistan', 'portugal', 'russian federation',\n",
       "       'saudi arabia', 'scotland', 'singapore', 'south korea', 'spain',\n",
       "       'sweden', 'thailand', 'turkey', 'uk', 'urbana', 'usa', 'usofa'],\n",
       "      dtype=object)"
      ]
     },
     "execution_count": 9,
     "metadata": {},
     "output_type": "execute_result"
    }
   ],
   "source": [
    "# get all the unique values in the 'City' column\n",
    "countries = professors['Country'].unique()\n",
    "\n",
    "# sort them alphabetically and then take a closer look\n",
    "countries.sort()\n",
    "countries"
   ]
  },
  {
   "cell_type": "markdown",
   "id": "93c41bfd",
   "metadata": {
    "papermill": {
     "duration": 0.007432,
     "end_time": "2024-01-05T12:05:53.290463",
     "exception": false,
     "start_time": "2024-01-05T12:05:53.283031",
     "status": "completed"
    },
    "tags": []
   },
   "source": [
    "Take another look at the \"Country\" column and see if there's any more data cleaning we need to do.\n",
    "\n",
    "It looks like 'usa' and 'usofa' should be the same country.  Correct the \"Country\" column in the dataframe to replace 'usofa' with 'usa'.\n",
    "\n",
    "**Use the most recent version of the DataFrame (with the whitespaces at the beginning and end of cells removed) from question 2.**"
   ]
  },
  {
   "cell_type": "code",
   "execution_count": 10,
   "id": "28ff6a1f",
   "metadata": {
    "execution": {
     "iopub.execute_input": "2024-01-05T12:05:53.307789Z",
     "iopub.status.busy": "2024-01-05T12:05:53.307367Z",
     "iopub.status.idle": "2024-01-05T12:05:53.321287Z",
     "shell.execute_reply": "2024-01-05T12:05:53.320207Z"
    },
    "papermill": {
     "duration": 0.02609,
     "end_time": "2024-01-05T12:05:53.324249",
     "exception": false,
     "start_time": "2024-01-05T12:05:53.298159",
     "status": "completed"
    },
    "tags": []
   },
   "outputs": [
    {
     "name": "stdout",
     "output_type": "stream",
     "text": [
      "All done!\n"
     ]
    },
    {
     "data": {
      "application/javascript": [
       "parent.postMessage({\"jupyterEvent\": \"custom.exercise_interaction\", \"data\": {\"outcomeType\": 1, \"valueTowardsCompletion\": 0.3333333333333333, \"interactionType\": 1, \"questionType\": 1, \"questionId\": \"3_WorkingWithCities\", \"learnToolsVersion\": \"0.3.4\", \"failureMessage\": \"\", \"exceptionClass\": \"\", \"trace\": \"\"}}, \"*\")"
      ],
      "text/plain": [
       "<IPython.core.display.Javascript object>"
      ]
     },
     "metadata": {},
     "output_type": "display_data"
    },
    {
     "data": {
      "text/markdown": [
       "<span style=\"color:#33cc33\">Correct</span>"
      ],
      "text/plain": [
       "Correct"
      ]
     },
     "metadata": {},
     "output_type": "display_data"
    }
   ],
   "source": [
    "# TODO: Your code here!\n",
    "matches = fuzzywuzzy.process.extract(\"usa\", countries, limit=10, scorer=fuzzywuzzy.fuzz.token_sort_ratio)\n",
    "replace_matches_in_column(df=professors, column='Country', string_to_match=\"usa\", min_ratio=70)\n",
    "\n",
    "# Check your answer\n",
    "q3.check()"
   ]
  },
  {
   "cell_type": "code",
   "execution_count": 11,
   "id": "40f1ec7a",
   "metadata": {
    "execution": {
     "iopub.execute_input": "2024-01-05T12:05:53.341780Z",
     "iopub.status.busy": "2024-01-05T12:05:53.341396Z",
     "iopub.status.idle": "2024-01-05T12:05:53.345778Z",
     "shell.execute_reply": "2024-01-05T12:05:53.344734Z"
    },
    "papermill": {
     "duration": 0.015888,
     "end_time": "2024-01-05T12:05:53.348015",
     "exception": false,
     "start_time": "2024-01-05T12:05:53.332127",
     "status": "completed"
    },
    "tags": []
   },
   "outputs": [],
   "source": [
    "# Lines below will give you a hint or solution code\n",
    "#q3.hint()\n",
    "#q3.solution()"
   ]
  },
  {
   "cell_type": "markdown",
   "id": "c15b462f",
   "metadata": {
    "papermill": {
     "duration": 0.007669,
     "end_time": "2024-01-05T12:05:53.363659",
     "exception": false,
     "start_time": "2024-01-05T12:05:53.355990",
     "status": "completed"
    },
    "tags": []
   },
   "source": [
    "# Congratulations!\n",
    "\n",
    "Congratulations for completing the **Data Cleaning** course on Kaggle Learn!\n",
    "\n",
    "To practice your new skills, you're encouraged to download and investigate some of [Kaggle's Datasets](https://www.kaggle.com/datasets)."
   ]
  },
  {
   "cell_type": "markdown",
   "id": "996b7727",
   "metadata": {
    "papermill": {
     "duration": 0.007589,
     "end_time": "2024-01-05T12:05:53.379622",
     "exception": false,
     "start_time": "2024-01-05T12:05:53.372033",
     "status": "completed"
    },
    "tags": []
   },
   "source": [
    "---\n",
    "\n",
    "\n",
    "\n",
    "\n",
    "*Have questions or comments? Visit the [course discussion forum](https://www.kaggle.com/learn/data-cleaning/discussion) to chat with other learners.*"
   ]
  }
 ],
 "metadata": {
  "kaggle": {
   "accelerator": "none",
   "dataSources": [
    {
     "datasetId": 819513,
     "sourceId": 1402182,
     "sourceType": "datasetVersion"
    }
   ],
   "isGpuEnabled": false,
   "isInternetEnabled": false,
   "language": "python",
   "sourceType": "notebook"
  },
  "kernelspec": {
   "display_name": "Python 3",
   "language": "python",
   "name": "python3"
  },
  "language_info": {
   "codemirror_mode": {
    "name": "ipython",
    "version": 3
   },
   "file_extension": ".py",
   "mimetype": "text/x-python",
   "name": "python",
   "nbconvert_exporter": "python",
   "pygments_lexer": "ipython3",
   "version": "3.10.12"
  },
  "papermill": {
   "default_parameters": {},
   "duration": 4.897752,
   "end_time": "2024-01-05T12:05:53.807864",
   "environment_variables": {},
   "exception": null,
   "input_path": "__notebook__.ipynb",
   "output_path": "__notebook__.ipynb",
   "parameters": {},
   "start_time": "2024-01-05T12:05:48.910112",
   "version": "2.4.0"
  }
 },
 "nbformat": 4,
 "nbformat_minor": 5
}
